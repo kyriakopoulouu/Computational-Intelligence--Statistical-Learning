
{#Imports
 "cells": [
  {
   "cell_type": "code",
   "execution_count": 34,
   "metadata": {},
   "outputs": [],
   "source": [
    "import pandas as pd\n",
    "import numpy as np\n",
    "from sklearn.preprocessing import MinMaxScaler\n",
    "from sklearn import svm"
   ]
  },
  {
   "cell_type": "code",
   "execution_count": 35,
   "metadata": {},
   "outputs": [],
   "source": [
    "data_train=pd.read_csv(\"./mnist_train.csv\")\n",
    "data_test=pd.read_csv(\"./mnist_test.csv\")\n",
 
   ]
  },
  {
   "cell_type": "code",
   "execution_count": 37,
   "metadata": {},
   "outputs": [
    {
     "name": "stdout",
     "output_type": "stream",
     "text": [
      "       label  1x1  1x2  1x3  1x4  1x5  1x6  1x7  1x8  1x9  ...  28x19  28x20  \\\n",
      "0          5    0    0    0    0    0    0    0    0    0  ...      0      0   \n",
      "1          0    0    0    0    0    0    0    0    0    0  ...      0      0   \n",
      "2          4    0    0    0    0    0    0    0    0    0  ...      0      0   \n",
      "3          1    0    0    0    0    0    0    0    0    0  ...      0      0   \n",
      "4          9    0    0    0    0    0    0    0    0    0  ...      0      0   \n",
      "...      ...  ...  ...  ...  ...  ...  ...  ...  ...  ...  ...    ...    ...   \n",
      "59995      8    0    0    0    0    0    0    0    0    0  ...      0      0   \n",
      "59996      3    0    0    0    0    0    0    0    0    0  ...      0      0   \n",
      "59997      5    0    0    0    0    0    0    0    0    0  ...      0      0   \n",
      "59998      6    0    0    0    0    0    0    0    0    0  ...      0      0   \n",
      "59999      8    0    0    0    0    0    0    0    0    0  ...      0      0   \n",
      "\n",
      "       28x21  28x22  28x23  28x24  28x25  28x26  28x27  28x28  \n",
      "0          0      0      0      0      0      0      0      0  \n",
      "1          0      0      0      0      0      0      0      0  \n",
      "2          0      0      0      0      0      0      0      0  \n",
      "3          0      0      0      0      0      0      0      0  \n",
      "4          0      0      0      0      0      0      0      0  \n",
      "...      ...    ...    ...    ...    ...    ...    ...    ...  \n",
      "59995      0      0      0      0      0      0      0      0  \n",
      "59996      0      0      0      0      0      0      0      0  \n",
      "59997      0      0      0      0      0      0      0      0  \n",
      "59998      0      0      0      0      0      0      0      0  \n",
      "59999      0      0      0      0      0      0      0      0  \n",
      "\n",
      "[60000 rows x 785 columns]\n"
     ]
    }
   ],
   "source": [
    "print(data_train)\n",
    "#The mnist_train.csv file contains the 60,000 training examples and labels. "
   ]
  },
  {
   "cell_type": "code",
   "execution_count": 38,
   "metadata": {},
   "outputs": [
    {
     "name": "stdout",
     "output_type": "stream",
     "text": [
      "      label  1x1  1x2  1x3  1x4  1x5  1x6  1x7  1x8  1x9  ...  28x19  28x20  \\\n",
      "0         7    0    0    0    0    0    0    0    0    0  ...      0      0   \n",
      "1         2    0    0    0    0    0    0    0    0    0  ...      0      0   \n",
      "2         1    0    0    0    0    0    0    0    0    0  ...      0      0   \n",
      "3         0    0    0    0    0    0    0    0    0    0  ...      0      0   \n",
      "4         4    0    0    0    0    0    0    0    0    0  ...      0      0   \n",
      "...     ...  ...  ...  ...  ...  ...  ...  ...  ...  ...  ...    ...    ...   \n",
      "9995      2    0    0    0    0    0    0    0    0    0  ...      0      0   \n",
      "9996      3    0    0    0    0    0    0    0    0    0  ...      0      0   \n",
      "9997      4    0    0    0    0    0    0    0    0    0  ...      0      0   \n",
      "9998      5    0    0    0    0    0    0    0    0    0  ...      0      0   \n",
      "9999      6    0    0    0    0    0    0    0    0    0  ...      0      0   \n",
      "\n",
      "      28x21  28x22  28x23  28x24  28x25  28x26  28x27  28x28  \n",
      "0         0      0      0      0      0      0      0      0  \n",
      "1         0      0      0      0      0      0      0      0  \n",
      "2         0      0      0      0      0      0      0      0  \n",
      "3         0      0      0      0      0      0      0      0  \n",
      "4         0      0      0      0      0      0      0      0  \n",
      "...     ...    ...    ...    ...    ...    ...    ...    ...  \n",
      "9995      0      0      0      0      0      0      0      0  \n",
      "9996      0      0      0      0      0      0      0      0  \n",
      "9997      0      0      0      0      0      0      0      0  \n",
      "9998      0      0      0      0      0      0      0      0  \n",
      "9999      0      0      0      0      0      0      0      0  \n",
      "\n",
      "[10000 rows x 785 columns]\n"
     ]
    }
   ],
   "source": [
    "print(data_test)\n",
    "## The mnist_test.csv contains 10,000 test examples and labels. \n",
    "# Each row consists of 785 values: the first value is the label (a number from 0 to 9) and the remaining 784 values are the pixel values (a number from 0 to 255)"
   ]
  },
  {
   "cell_type": "code",
   "execution_count": 39,
   "metadata": {},
   "outputs": [
    {
     "data": {
      "text/plain": [
       "(60000, 785)"
      ]
     },
     "execution_count": 39,
     "metadata": {},
     "output_type": "execute_result"
    }
   ],
   "source": [
    "data_train.shape"
   ]
  },
  {
   "cell_type": "code",
   "execution_count": 40,
   "metadata": {},
   "outputs": [
    {
     "data": {
      "text/plain": [
       "(10000, 785)"
      ]
     },
     "execution_count": 40,
     "metadata": {},
     "output_type": "execute_result"
    }
   ],
   "source": [
    "data_test.shape"
   ]
  },
  {
   "cell_type": "code",
   "execution_count": 41,
   "metadata": {},
   "outputs": [
    {
     "data": {
      "text/plain": [
       "0"
      ]
     },
     "execution_count": 41,
     "metadata": {},
     "output_type": "execute_result"
    }
   ],
   "source": [
    "#elegxos gia kena sta dataset\n",
    "data_test.isnull().sum().sum()"
   ]
  },
  {
   "cell_type": "code",
   "execution_count": 42,
   "metadata": {},
   "outputs": [
    {
     "data": {
      "text/plain": [
       "0"
      ]
     },
     "execution_count": 42,
     "metadata": {},
     "output_type": "execute_result"
    }
   ],
   "source": [
    "data_train.isnull().sum().sum()"
   ]
  },
  {
   "cell_type": "code",
   "execution_count": 43,
   "metadata": {},
   "outputs": [
    {
     "data": {
      "text/plain": [
       "[0, 1, 2, 3, 4, 5, 6, 7, 8, 9]"
      ]
     },
     "execution_count": 43,
     "metadata": {},
     "output_type": "execute_result"
    }
   ],
   "source": [
    "list(np.sort(data_train['label'].unique()))\n",
    "#εχει 10 κλασεις οντως το δατασετ οπως ηταν αναμενομενο"
   ]
  },
  {
   "cell_type": "code",
   "execution_count": 44,
   "metadata": {},
   "outputs": [],
   "source": [
    "#undersampling train & test data\n",
    "from sklearn.utils import resample\n",
    "undersampling_train_data=resample(data_train,replace=False,n_samples=6000,random_state=42)\n",
    "undersampling_test_data=resample(data_test,replace=False,n_samples=1000,random_state=42)"
   ]
  },
  {
   "cell_type": "code",
   "execution_count": 45,
   "metadata": {},
   "outputs": [],
   "source": [
    "#diaxwrizw ta data \n",
    "X_train=undersampling_train_data[undersampling_train_data.columns[1:]] \n",
    "y_train=undersampling_train_data['label']\n",
    "X_test=undersampling_test_data[undersampling_test_data.columns[1:]]\n",
    "y_test=undersampling_test_data['label']"
   ]
  },
  {
   "cell_type": "code",
   "execution_count": 46,
   "metadata": {},
   "outputs": [
    {
     "name": "stdout",
     "output_type": "stream",
     "text": [
      "255\n",
      "0\n",
      "9\n",
      "0\n",
      "255\n",
      "0\n",
      "9\n",
      "0\n"
     ]
    },
    {
     "name": "stderr",
     "output_type": "stream",
     "text": [
      "c:\\Users\\eimai\\AppData\\Local\\Programs\\Python\\Python311\\Lib\\site-packages\\numpy\\core\\fromnumeric.py:84: FutureWarning: In a future version, DataFrame.max(axis=None) will return a scalar max over the entire DataFrame. To retain the old behavior, use 'frame.max(axis=0)' or just 'frame.max()'\n",
      "  return reduction(axis=axis, out=out, **passkwargs)\n",
      "c:\\Users\\eimai\\AppData\\Local\\Programs\\Python\\Python311\\Lib\\site-packages\\numpy\\core\\fromnumeric.py:84: FutureWarning: In a future version, DataFrame.min(axis=None) will return a scalar min over the entire DataFrame. To retain the old behavior, use 'frame.min(axis=0)' or just 'frame.min()'\n",
      "  return reduction(axis=axis, out=out, **passkwargs)\n"
     ]
    }
   ],
   "source": [
    "# afoy egine o diaxwrismos twn data elegxw kai ektupwnw ean to euros tn pixel vrisketai metaksu 0-255 \n",
    "# vriskw oti to max 255 kai 0 gia min \n",
    "#antistoixa sta y_train kai x_train afou egine to split gia max pairnw 9,logiko afoy einai h megaluterh klash kai 0 gia minimun\n",
    "print(np.max(np.max (X_train)))\n",
    "print(np.min(np.min (X_train)))\n",
    "print(np.max(np.max (y_train)))\n",
    "print(np.min(np.min (y_train)))\n",
    "print(np.max(np.max (X_test)))\n",
    "print(np.min(np.min (X_test)))\n",
    "print(np.max(np.max (y_test)))\n",
    "print(np.min(np.min (y_test)))\n"
   ]
  },
  {
   "cell_type": "code",
   "execution_count": 47,
   "metadata": {},
   "outputs": [],
   "source": [
    "#scaling stis times tou dataframe X\n",
    "scaler = MinMaxScaler(feature_range=(0,1))\n",
    "X_train = scaler.fit_transform(X_train)\n",
    "X_test = scaler.fit_transform(X_test)"
   ]
  },
  {
   "cell_type": "code",
   "execution_count": 48,
   "metadata": {},
   "outputs": [
    {
     "data": {
      "text/plain": [
       "(6000, 784)"
      ]
     },
     "execution_count": 48,
     "metadata": {},
     "output_type": "execute_result"
    }
   ],
   "source": [
    "X_train.shape"
   ]
  },
  {
   "cell_type": "code",
   "execution_count": 49,
   "metadata": {},
   "outputs": [
    {
     "data": {
      "image/png": "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",
      "text/plain": [
       "<Figure size 640x480 with 1 Axes>"
      ]
     },
     "metadata": {},
     "output_type": "display_data"
    },
    {
     "data": {
      "text/plain": [
       "None"
      ]
     },
     "metadata": {},
     "output_type": "display_data"
    },
    {
     "data": {
      "text/html": [
       "<div>\n",
       "<style scoped>\n",
       "    .dataframe tbody tr th:only-of-type {\n",
       "        vertical-align: middle;\n",
       "    }\n",
       "\n",
       "    .dataframe tbody tr th {\n",
       "        vertical-align: top;\n",
       "    }\n",
       "\n",
       "    .dataframe thead th {\n",
       "        text-align: right;\n",
       "    }\n",
       "</style>\n",
       "<table border=\"1\" class=\"dataframe\">\n",
       "  <thead>\n",
       "    <tr style=\"text-align: right;\">\n",
       "      <th></th>\n",
       "      <th>cumulative explained variance</th>\n",
       "      <th>explained_variance_ratio</th>\n",
       "    </tr>\n",
       "  </thead>\n",
       "  <tbody>\n",
       "    <tr>\n",
       "      <th>0</th>\n",
       "      <td>0.094172</td>\n",
       "      <td>0.094172</td>\n",
       "    </tr>\n",
       "    <tr>\n",
       "      <th>1</th>\n",
       "      <td>0.163035</td>\n",
       "      <td>0.068862</td>\n",
       "    </tr>\n",
       "    <tr>\n",
       "      <th>2</th>\n",
       "      <td>0.220867</td>\n",
       "      <td>0.057832</td>\n",
       "    </tr>\n",
       "    <tr>\n",
       "      <th>3</th>\n",
       "      <td>0.270818</td>\n",
       "      <td>0.049951</td>\n",
       "    </tr>\n",
       "    <tr>\n",
       "      <th>4</th>\n",
       "      <td>0.317629</td>\n",
       "      <td>0.046811</td>\n",
       "    </tr>\n",
       "    <tr>\n",
       "      <th>...</th>\n",
       "      <td>...</td>\n",
       "      <td>...</td>\n",
       "    </tr>\n",
       "    <tr>\n",
       "      <th>220</th>\n",
       "      <td>0.948931</td>\n",
       "      <td>0.000271</td>\n",
       "    </tr>\n",
       "    <tr>\n",
       "      <th>221</th>\n",
       "      <td>0.949201</td>\n",
       "      <td>0.000271</td>\n",
       "    </tr>\n",
       "    <tr>\n",
       "      <th>222</th>\n",
       "      <td>0.949471</td>\n",
       "      <td>0.000270</td>\n",
       "    </tr>\n",
       "    <tr>\n",
       "      <th>223</th>\n",
       "      <td>0.949738</td>\n",
       "      <td>0.000267</td>\n",
       "    </tr>\n",
       "    <tr>\n",
       "      <th>224</th>\n",
       "      <td>0.950004</td>\n",
       "      <td>0.000265</td>\n",
       "    </tr>\n",
       "  </tbody>\n",
       "</table>\n",
       "<p>225 rows × 2 columns</p>\n",
       "</div>"
      ],
      "text/plain": [
       "     cumulative explained variance  explained_variance_ratio\n",
       "0                         0.094172                  0.094172\n",
       "1                         0.163035                  0.068862\n",
       "2                         0.220867                  0.057832\n",
       "3                         0.270818                  0.049951\n",
       "4                         0.317629                  0.046811\n",
       "..                             ...                       ...\n",
       "220                       0.948931                  0.000271\n",
       "221                       0.949201                  0.000271\n",
       "222                       0.949471                  0.000270\n",
       "223                       0.949738                  0.000267\n",
       "224                       0.950004                  0.000265\n",
       "\n",
       "[225 rows x 2 columns]"
      ]
     },
     "metadata": {},
     "output_type": "display_data"
    }
   ],
   "source": [
    "#components gia kpca\n",
    "from sklearn.decomposition import KernelPCA\n",
    "import seaborn as sns\n",
    "import matplotlib.pyplot as plt\n",
    "kpca = KernelPCA(n_components=784,kernel='rbf')\n",
    "kpca=kpca.fit_transform(X_train)\n",
    "explained_variance=np.var(kpca, axis=0 )\n",
    "explained_variance_ratio=explained_variance/ np.sum(explained_variance)\n",
    "\n",
    "sns.set(style='whitegrid')\n",
    "plt.plot(np.cumsum(explained_variance_ratio))\n",
    "plt.xlabel('number of componenets')\n",
    "plt.ylabel('cumulative explained variance')\n",
    "display(plt.show())\n",
    "\n",
    "evr=explained_variance_ratio\n",
    "cvr=np.cumsum(explained_variance_ratio)\n",
    "kpca_df=pd.DataFrame()\n",
    "kpca_df['cumulative explained variance']= cvr\n",
    "kpca_df['explained_variance_ratio']= evr\n",
    "display(kpca_df.head(225))"
   ]
  },
  {
   "cell_type": "code",
   "execution_count": 50,
   "metadata": {},
   "outputs": [],
   "source": [
    "#kratw 225 conmponenets gia na eksasfalisw plhroforia >= 95%\n",
    "kpca=KernelPCA(n_components=225,kernel='rbf')\n",
    "X_kpca_train=kpca.fit_transform(X_train)\n",
    "X_kpca_test=kpca.transform(X_test)\n"
   ]
  },
  {
   "cell_type": "code",
   "execution_count": 29,
   "metadata": {},
   "outputs": [
    {
     "name": "stdout",
     "output_type": "stream",
     "text": [
      "Fitting 5 folds for each of 12 candidates, totalling 60 fits\n",
      "[CV 1/5; 1/12] START C=5, gamma=0.01, kernel=rbf................................\n",
      "[CV 1/5; 1/12] END .C=5, gamma=0.01, kernel=rbf;, score=0.771 total time=   3.9s\n",
      "[CV 2/5; 1/12] START C=5, gamma=0.01, kernel=rbf................................\n",
      "[CV 2/5; 1/12] END .C=5, gamma=0.01, kernel=rbf;, score=0.777 total time=   3.8s\n",
      "[CV 3/5; 1/12] START C=5, gamma=0.01, kernel=rbf................................\n",
      "[CV 3/5; 1/12] END .C=5, gamma=0.01, kernel=rbf;, score=0.775 total time=   3.8s\n",
      "[CV 4/5; 1/12] START C=5, gamma=0.01, kernel=rbf................................\n",
      "[CV 4/5; 1/12] END .C=5, gamma=0.01, kernel=rbf;, score=0.767 total time=   3.8s\n",
      "[CV 5/5; 1/12] START C=5, gamma=0.01, kernel=rbf................................\n",
      "[CV 5/5; 1/12] END .C=5, gamma=0.01, kernel=rbf;, score=0.804 total time=   3.8s\n",
      "[CV 1/5; 2/12] START C=5, gamma=0.001, kernel=rbf...............................\n",
      "[CV 1/5; 2/12] END C=5, gamma=0.001, kernel=rbf;, score=0.109 total time=   4.6s\n",
      "[CV 2/5; 2/12] START C=5, gamma=0.001, kernel=rbf...............................\n",
      "[CV 2/5; 2/12] END C=5, gamma=0.001, kernel=rbf;, score=0.108 total time=   4.7s\n",
      "[CV 3/5; 2/12] START C=5, gamma=0.001, kernel=rbf...............................\n",
      "[CV 3/5; 2/12] END C=5, gamma=0.001, kernel=rbf;, score=0.109 total time=   4.7s\n",
      "[CV 4/5; 2/12] START C=5, gamma=0.001, kernel=rbf...............................\n",
      "[CV 4/5; 2/12] END C=5, gamma=0.001, kernel=rbf;, score=0.109 total time=   4.6s\n",
      "[CV 5/5; 2/12] START C=5, gamma=0.001, kernel=rbf...............................\n",
      "[CV 5/5; 2/12] END C=5, gamma=0.001, kernel=rbf;, score=0.109 total time=   4.6s\n",
      "[CV 1/5; 3/12] START C=5, gamma=0.0001, kernel=rbf..............................\n",
      "[CV 1/5; 3/12] END C=5, gamma=0.0001, kernel=rbf;, score=0.109 total time=   4.6s\n",
      "[CV 2/5; 3/12] START C=5, gamma=0.0001, kernel=rbf..............................\n",
      "[CV 2/5; 3/12] END C=5, gamma=0.0001, kernel=rbf;, score=0.108 total time=   4.6s\n",
      "[CV 3/5; 3/12] START C=5, gamma=0.0001, kernel=rbf..............................\n",
      "[CV 3/5; 3/12] END C=5, gamma=0.0001, kernel=rbf;, score=0.109 total time=   4.6s\n",
      "[CV 4/5; 3/12] START C=5, gamma=0.0001, kernel=rbf..............................\n",
      "[CV 4/5; 3/12] END C=5, gamma=0.0001, kernel=rbf;, score=0.109 total time=   4.6s\n",
      "[CV 5/5; 3/12] START C=5, gamma=0.0001, kernel=rbf..............................\n",
      "[CV 5/5; 3/12] END C=5, gamma=0.0001, kernel=rbf;, score=0.109 total time=   4.6s\n",
      "[CV 1/5; 4/12] START C=10, gamma=0.01, kernel=rbf...............................\n",
      "[CV 1/5; 4/12] END C=10, gamma=0.01, kernel=rbf;, score=0.848 total time=   3.1s\n",
      "[CV 2/5; 4/12] START C=10, gamma=0.01, kernel=rbf...............................\n",
      "[CV 2/5; 4/12] END C=10, gamma=0.01, kernel=rbf;, score=0.857 total time=   3.0s\n",
      "[CV 3/5; 4/12] START C=10, gamma=0.01, kernel=rbf...............................\n",
      "[CV 3/5; 4/12] END C=10, gamma=0.01, kernel=rbf;, score=0.852 total time=   3.0s\n",
      "[CV 4/5; 4/12] START C=10, gamma=0.01, kernel=rbf...............................\n",
      "[CV 4/5; 4/12] END C=10, gamma=0.01, kernel=rbf;, score=0.848 total time=   3.0s\n",
      "[CV 5/5; 4/12] START C=10, gamma=0.01, kernel=rbf...............................\n",
      "[CV 5/5; 4/12] END C=10, gamma=0.01, kernel=rbf;, score=0.882 total time=   3.0s\n",
      "[CV 1/5; 5/12] START C=10, gamma=0.001, kernel=rbf..............................\n",
      "[CV 1/5; 5/12] END C=10, gamma=0.001, kernel=rbf;, score=0.198 total time=   4.6s\n",
      "[CV 2/5; 5/12] START C=10, gamma=0.001, kernel=rbf..............................\n",
      "[CV 2/5; 5/12] END C=10, gamma=0.001, kernel=rbf;, score=0.198 total time=   4.5s\n",
      "[CV 3/5; 5/12] START C=10, gamma=0.001, kernel=rbf..............................\n",
      "[CV 3/5; 5/12] END C=10, gamma=0.001, kernel=rbf;, score=0.193 total time=   4.6s\n",
      "[CV 4/5; 5/12] START C=10, gamma=0.001, kernel=rbf..............................\n",
      "[CV 4/5; 5/12] END C=10, gamma=0.001, kernel=rbf;, score=0.184 total time=   4.6s\n",
      "[CV 5/5; 5/12] START C=10, gamma=0.001, kernel=rbf..............................\n",
      "[CV 5/5; 5/12] END C=10, gamma=0.001, kernel=rbf;, score=0.183 total time=   4.6s\n",
      "[CV 1/5; 6/12] START C=10, gamma=0.0001, kernel=rbf.............................\n",
      "[CV 1/5; 6/12] END C=10, gamma=0.0001, kernel=rbf;, score=0.109 total time=   4.6s\n",
      "[CV 2/5; 6/12] START C=10, gamma=0.0001, kernel=rbf.............................\n",
      "[CV 2/5; 6/12] END C=10, gamma=0.0001, kernel=rbf;, score=0.108 total time=   4.6s\n",
      "[CV 3/5; 6/12] START C=10, gamma=0.0001, kernel=rbf.............................\n",
      "[CV 3/5; 6/12] END C=10, gamma=0.0001, kernel=rbf;, score=0.109 total time=   4.6s\n",
      "[CV 4/5; 6/12] START C=10, gamma=0.0001, kernel=rbf.............................\n",
      "[CV 4/5; 6/12] END C=10, gamma=0.0001, kernel=rbf;, score=0.109 total time=   4.6s\n",
      "[CV 5/5; 6/12] START C=10, gamma=0.0001, kernel=rbf.............................\n",
      "[CV 5/5; 6/12] END C=10, gamma=0.0001, kernel=rbf;, score=0.109 total time=   4.5s\n",
      "[CV 1/5; 7/12] START C=5, gamma=0.01, kernel=linear.............................\n",
      "[CV 1/5; 7/12] END C=5, gamma=0.01, kernel=linear;, score=0.906 total time=   0.6s\n",
      "[CV 2/5; 7/12] START C=5, gamma=0.01, kernel=linear.............................\n",
      "[CV 2/5; 7/12] END C=5, gamma=0.01, kernel=linear;, score=0.932 total time=   0.6s\n",
      "[CV 3/5; 7/12] START C=5, gamma=0.01, kernel=linear.............................\n",
      "[CV 3/5; 7/12] END C=5, gamma=0.01, kernel=linear;, score=0.912 total time=   0.6s\n",
      "[CV 4/5; 7/12] START C=5, gamma=0.01, kernel=linear.............................\n",
      "[CV 4/5; 7/12] END C=5, gamma=0.01, kernel=linear;, score=0.921 total time=   0.6s\n",
      "[CV 5/5; 7/12] START C=5, gamma=0.01, kernel=linear.............................\n",
      "[CV 5/5; 7/12] END C=5, gamma=0.01, kernel=linear;, score=0.935 total time=   0.6s\n",
      "[CV 1/5; 8/12] START C=5, gamma=0.001, kernel=linear............................\n",
      "[CV 1/5; 8/12] END C=5, gamma=0.001, kernel=linear;, score=0.906 total time=   0.6s\n",
      "[CV 2/5; 8/12] START C=5, gamma=0.001, kernel=linear............................\n",
      "[CV 2/5; 8/12] END C=5, gamma=0.001, kernel=linear;, score=0.932 total time=   0.6s\n",
      "[CV 3/5; 8/12] START C=5, gamma=0.001, kernel=linear............................\n",
      "[CV 3/5; 8/12] END C=5, gamma=0.001, kernel=linear;, score=0.912 total time=   0.6s\n",
      "[CV 4/5; 8/12] START C=5, gamma=0.001, kernel=linear............................\n",
      "[CV 4/5; 8/12] END C=5, gamma=0.001, kernel=linear;, score=0.921 total time=   0.6s\n",
      "[CV 5/5; 8/12] START C=5, gamma=0.001, kernel=linear............................\n",
      "[CV 5/5; 8/12] END C=5, gamma=0.001, kernel=linear;, score=0.935 total time=   0.6s\n",
      "[CV 1/5; 9/12] START C=5, gamma=0.0001, kernel=linear...........................\n",
      "[CV 1/5; 9/12] END C=5, gamma=0.0001, kernel=linear;, score=0.906 total time=   0.6s\n",
      "[CV 2/5; 9/12] START C=5, gamma=0.0001, kernel=linear...........................\n",
      "[CV 2/5; 9/12] END C=5, gamma=0.0001, kernel=linear;, score=0.932 total time=   0.6s\n",
      "[CV 3/5; 9/12] START C=5, gamma=0.0001, kernel=linear...........................\n",
      "[CV 3/5; 9/12] END C=5, gamma=0.0001, kernel=linear;, score=0.912 total time=   0.6s\n",
      "[CV 4/5; 9/12] START C=5, gamma=0.0001, kernel=linear...........................\n",
      "[CV 4/5; 9/12] END C=5, gamma=0.0001, kernel=linear;, score=0.921 total time=   0.6s\n",
      "[CV 5/5; 9/12] START C=5, gamma=0.0001, kernel=linear...........................\n",
      "[CV 5/5; 9/12] END C=5, gamma=0.0001, kernel=linear;, score=0.935 total time=   0.6s\n",
      "[CV 1/5; 10/12] START C=10, gamma=0.01, kernel=linear...........................\n",
      "[CV 1/5; 10/12] END C=10, gamma=0.01, kernel=linear;, score=0.914 total time=   0.5s\n",
      "[CV 2/5; 10/12] START C=10, gamma=0.01, kernel=linear...........................\n",
      "[CV 2/5; 10/12] END C=10, gamma=0.01, kernel=linear;, score=0.933 total time=   0.5s\n",
      "[CV 3/5; 10/12] START C=10, gamma=0.01, kernel=linear...........................\n",
      "[CV 3/5; 10/12] END C=10, gamma=0.01, kernel=linear;, score=0.917 total time=   0.5s\n",
      "[CV 4/5; 10/12] START C=10, gamma=0.01, kernel=linear...........................\n",
      "[CV 4/5; 10/12] END C=10, gamma=0.01, kernel=linear;, score=0.923 total time=   0.5s\n",
      "[CV 5/5; 10/12] START C=10, gamma=0.01, kernel=linear...........................\n",
      "[CV 5/5; 10/12] END C=10, gamma=0.01, kernel=linear;, score=0.935 total time=   0.5s\n",
      "[CV 1/5; 11/12] START C=10, gamma=0.001, kernel=linear..........................\n",
      "[CV 1/5; 11/12] END C=10, gamma=0.001, kernel=linear;, score=0.914 total time=   0.6s\n",
      "[CV 2/5; 11/12] START C=10, gamma=0.001, kernel=linear..........................\n",
      "[CV 2/5; 11/12] END C=10, gamma=0.001, kernel=linear;, score=0.933 total time=   0.5s\n",
      "[CV 3/5; 11/12] START C=10, gamma=0.001, kernel=linear..........................\n",
      "[CV 3/5; 11/12] END C=10, gamma=0.001, kernel=linear;, score=0.917 total time=   0.5s\n",
      "[CV 4/5; 11/12] START C=10, gamma=0.001, kernel=linear..........................\n",
      "[CV 4/5; 11/12] END C=10, gamma=0.001, kernel=linear;, score=0.923 total time=   0.5s\n",
      "[CV 5/5; 11/12] START C=10, gamma=0.001, kernel=linear..........................\n",
      "[CV 5/5; 11/12] END C=10, gamma=0.001, kernel=linear;, score=0.935 total time=   0.5s\n",
      "[CV 1/5; 12/12] START C=10, gamma=0.0001, kernel=linear.........................\n",
      "[CV 1/5; 12/12] END C=10, gamma=0.0001, kernel=linear;, score=0.914 total time=   0.5s\n",
      "[CV 2/5; 12/12] START C=10, gamma=0.0001, kernel=linear.........................\n",
      "[CV 2/5; 12/12] END C=10, gamma=0.0001, kernel=linear;, score=0.933 total time=   0.5s\n",
      "[CV 3/5; 12/12] START C=10, gamma=0.0001, kernel=linear.........................\n",
      "[CV 3/5; 12/12] END C=10, gamma=0.0001, kernel=linear;, score=0.917 total time=   0.5s\n",
      "[CV 4/5; 12/12] START C=10, gamma=0.0001, kernel=linear.........................\n",
      "[CV 4/5; 12/12] END C=10, gamma=0.0001, kernel=linear;, score=0.923 total time=   0.5s\n",
      "[CV 5/5; 12/12] START C=10, gamma=0.0001, kernel=linear.........................\n",
      "[CV 5/5; 12/12] END C=10, gamma=0.0001, kernel=linear;, score=0.935 total time=   0.5s\n"
     ]
    }
   ],
   "source": [
    "#grid search metaksu linear k rbf kernel gia to prediction\n",
    "from sklearn.svm import SVC\n",
    "from sklearn.model_selection import GridSearchCV\n",
    "param_grid=[{ 'C': [5,10],'gamma':[0.01,0.001,0.0001], 'kernel':['rbf']},\n",
    "{ 'C': [5,10],'gamma':[0.01,0.001,0.0001], 'kernel':['linear']},]\n",
    "grid=GridSearchCV(SVC(), param_grid, verbose=10)\n",
    "grid.fit(X_kpca_train,y_train)\n",
    "y_pred=grid.predict(X_kpca_test)"
   ]
  },
  {
   "cell_type": "code",
   "execution_count": 51,
   "metadata": {},
   "outputs": [
    {
     "data": {
      "text/plain": [
       "{'C': 10, 'gamma': 0.01, 'kernel': 'linear'}"
      ]
     },
     "execution_count": 51,
     "metadata": {},
     "output_type": "execute_result"
    }
   ],
   "source": [
    "grid.best_params_"
   ]
  },
  {
   "cell_type": "code",
   "execution_count": 52,
   "metadata": {},
   "outputs": [
    {
     "name": "stdout",
     "output_type": "stream",
     "text": [
      "Accuracy: 0.928 \n",
      "\n"
     ]
    }
   ],
   "source": [
    "from sklearn import metrics\n",
    "print(\"Accuracy:\",metrics.accuracy_score(y_true=y_test,y_pred=y_pred),\"\\n\")"
   ]
  },
  {
   "cell_type": "code",
   "execution_count": 53,
   "metadata": {},
   "outputs": [
    {
     "name": "stdout",
     "output_type": "stream",
     "text": [
      "Number of components needed: 8\n"
     ]
    }
   ],
   "source": [
    "from sklearn.discriminant_analysis import LinearDiscriminantAnalysis as LDA\n",
    "lda = LDA()\n",
    "lda.fit(X_train, y_train)\n",
    "explained_variance = lda.explained_variance_ratio_\n",
    "cumulative_sum = np.cumsum(explained_variance)\n",
    "n_components = np.argmax(cumulative_sum >= 0.95)+1\n",
    "print(\"Number of components needed:\", n_components)"
   ]
  },
  {
   "cell_type": "code",
   "execution_count": 54,
   "metadata": {},
   "outputs": [],
   "source": [
    "lda=LDA(n_components=8)\n",
    "X_train_kpcaPluslda=lda.fit_transform(X_kpca_train,y_train)\n",
    "X_test_kpcaPluslda=lda.transform(X_kpca_test)"
   ]
  },
  {
   "cell_type": "code",
   "execution_count": 55,
   "metadata": {},
   "outputs": [
    {
     "name": "stdout",
     "output_type": "stream",
     "text": [
      "Fitting 5 folds for each of 12 candidates, totalling 60 fits\n",
      "[CV 1/5; 1/12] START C=5, gamma=0.01, kernel=rbf................................\n",
      "[CV 1/5; 1/12] END .C=5, gamma=0.01, kernel=rbf;, score=0.914 total time=   0.1s\n",
      "[CV 2/5; 1/12] START C=5, gamma=0.01, kernel=rbf................................\n",
      "[CV 2/5; 1/12] END .C=5, gamma=0.01, kernel=rbf;, score=0.931 total time=   0.1s\n",
      "[CV 3/5; 1/12] START C=5, gamma=0.01, kernel=rbf................................\n",
      "[CV 3/5; 1/12] END .C=5, gamma=0.01, kernel=rbf;, score=0.917 total time=   0.1s\n",
      "[CV 4/5; 1/12] START C=5, gamma=0.01, kernel=rbf................................\n",
      "[CV 4/5; 1/12] END .C=5, gamma=0.01, kernel=rbf;, score=0.920 total time=   0.1s\n",
      "[CV 5/5; 1/12] START C=5, gamma=0.01, kernel=rbf................................\n",
      "[CV 5/5; 1/12] END .C=5, gamma=0.01, kernel=rbf;, score=0.940 total time=   0.1s\n",
      "[CV 1/5; 2/12] START C=5, gamma=0.001, kernel=rbf...............................\n",
      "[CV 1/5; 2/12] END C=5, gamma=0.001, kernel=rbf;, score=0.910 total time=   0.2s\n",
      "[CV 2/5; 2/12] START C=5, gamma=0.001, kernel=rbf...............................\n",
      "[CV 2/5; 2/12] END C=5, gamma=0.001, kernel=rbf;, score=0.932 total time=   0.2s\n",
      "[CV 3/5; 2/12] START C=5, gamma=0.001, kernel=rbf...............................\n",
      "[CV 3/5; 2/12] END C=5, gamma=0.001, kernel=rbf;, score=0.917 total time=   0.2s\n",
      "[CV 4/5; 2/12] START C=5, gamma=0.001, kernel=rbf...............................\n",
      "[CV 4/5; 2/12] END C=5, gamma=0.001, kernel=rbf;, score=0.917 total time=   0.2s\n",
      "[CV 5/5; 2/12] START C=5, gamma=0.001, kernel=rbf...............................\n",
      "[CV 5/5; 2/12] END C=5, gamma=0.001, kernel=rbf;, score=0.932 total time=   0.2s\n",
      "[CV 1/5; 3/12] START C=5, gamma=0.0001, kernel=rbf..............................\n",
      "[CV 1/5; 3/12] END C=5, gamma=0.0001, kernel=rbf;, score=0.913 total time=   0.5s\n",
      "[CV 2/5; 3/12] START C=5, gamma=0.0001, kernel=rbf..............................\n",
      "[CV 2/5; 3/12] END C=5, gamma=0.0001, kernel=rbf;, score=0.922 total time=   0.5s\n",
      "[CV 3/5; 3/12] START C=5, gamma=0.0001, kernel=rbf..............................\n",
      "[CV 3/5; 3/12] END C=5, gamma=0.0001, kernel=rbf;, score=0.909 total time=   0.5s\n",
      "[CV 4/5; 3/12] START C=5, gamma=0.0001, kernel=rbf..............................\n",
      "[CV 4/5; 3/12] END C=5, gamma=0.0001, kernel=rbf;, score=0.914 total time=   0.6s\n",
      "[CV 5/5; 3/12] START C=5, gamma=0.0001, kernel=rbf..............................\n",
      "[CV 5/5; 3/12] END C=5, gamma=0.0001, kernel=rbf;, score=0.927 total time=   0.6s\n",
      "[CV 1/5; 4/12] START C=10, gamma=0.01, kernel=rbf...............................\n",
      "[CV 1/5; 4/12] END C=10, gamma=0.01, kernel=rbf;, score=0.919 total time=   0.1s\n",
      "[CV 2/5; 4/12] START C=10, gamma=0.01, kernel=rbf...............................\n",
      "[CV 2/5; 4/12] END C=10, gamma=0.01, kernel=rbf;, score=0.926 total time=   0.1s\n",
      "[CV 3/5; 4/12] START C=10, gamma=0.01, kernel=rbf...............................\n",
      "[CV 3/5; 4/12] END C=10, gamma=0.01, kernel=rbf;, score=0.915 total time=   0.1s\n",
      "[CV 4/5; 4/12] START C=10, gamma=0.01, kernel=rbf...............................\n",
      "[CV 4/5; 4/12] END C=10, gamma=0.01, kernel=rbf;, score=0.917 total time=   0.1s\n",
      "[CV 5/5; 4/12] START C=10, gamma=0.01, kernel=rbf...............................\n",
      "[CV 5/5; 4/12] END C=10, gamma=0.01, kernel=rbf;, score=0.938 total time=   0.1s\n",
      "[CV 1/5; 5/12] START C=10, gamma=0.001, kernel=rbf..............................\n",
      "[CV 1/5; 5/12] END C=10, gamma=0.001, kernel=rbf;, score=0.912 total time=   0.2s\n",
      "[CV 2/5; 5/12] START C=10, gamma=0.001, kernel=rbf..............................\n",
      "[CV 2/5; 5/12] END C=10, gamma=0.001, kernel=rbf;, score=0.928 total time=   0.2s\n",
      "[CV 3/5; 5/12] START C=10, gamma=0.001, kernel=rbf..............................\n",
      "[CV 3/5; 5/12] END C=10, gamma=0.001, kernel=rbf;, score=0.916 total time=   0.2s\n",
      "[CV 4/5; 5/12] START C=10, gamma=0.001, kernel=rbf..............................\n",
      "[CV 4/5; 5/12] END C=10, gamma=0.001, kernel=rbf;, score=0.914 total time=   0.2s\n",
      "[CV 5/5; 5/12] START C=10, gamma=0.001, kernel=rbf..............................\n",
      "[CV 5/5; 5/12] END C=10, gamma=0.001, kernel=rbf;, score=0.934 total time=   0.2s\n",
      "[CV 1/5; 6/12] START C=10, gamma=0.0001, kernel=rbf.............................\n",
      "[CV 1/5; 6/12] END C=10, gamma=0.0001, kernel=rbf;, score=0.912 total time=   0.4s\n",
      "[CV 2/5; 6/12] START C=10, gamma=0.0001, kernel=rbf.............................\n",
      "[CV 2/5; 6/12] END C=10, gamma=0.0001, kernel=rbf;, score=0.925 total time=   0.4s\n",
      "[CV 3/5; 6/12] START C=10, gamma=0.0001, kernel=rbf.............................\n",
      "[CV 3/5; 6/12] END C=10, gamma=0.0001, kernel=rbf;, score=0.913 total time=   0.4s\n",
      "[CV 4/5; 6/12] START C=10, gamma=0.0001, kernel=rbf.............................\n",
      "[CV 4/5; 6/12] END C=10, gamma=0.0001, kernel=rbf;, score=0.916 total time=   0.4s\n",
      "[CV 5/5; 6/12] START C=10, gamma=0.0001, kernel=rbf.............................\n",
      "[CV 5/5; 6/12] END C=10, gamma=0.0001, kernel=rbf;, score=0.926 total time=   0.4s\n",
      "[CV 1/5; 7/12] START C=5, gamma=0.01, kernel=linear.............................\n",
      "[CV 1/5; 7/12] END C=5, gamma=0.01, kernel=linear;, score=0.912 total time=   0.2s\n",
      "[CV 2/5; 7/12] START C=5, gamma=0.01, kernel=linear.............................\n",
      "[CV 2/5; 7/12] END C=5, gamma=0.01, kernel=linear;, score=0.927 total time=   0.2s\n",
      "[CV 3/5; 7/12] START C=5, gamma=0.01, kernel=linear.............................\n",
      "[CV 3/5; 7/12] END C=5, gamma=0.01, kernel=linear;, score=0.919 total time=   0.2s\n",
      "[CV 4/5; 7/12] START C=5, gamma=0.01, kernel=linear.............................\n",
      "[CV 4/5; 7/12] END C=5, gamma=0.01, kernel=linear;, score=0.918 total time=   0.2s\n",
      "[CV 5/5; 7/12] START C=5, gamma=0.01, kernel=linear.............................\n",
      "[CV 5/5; 7/12] END C=5, gamma=0.01, kernel=linear;, score=0.932 total time=   0.2s\n",
      "[CV 1/5; 8/12] START C=5, gamma=0.001, kernel=linear............................\n",
      "[CV 1/5; 8/12] END C=5, gamma=0.001, kernel=linear;, score=0.912 total time=   0.2s\n",
      "[CV 2/5; 8/12] START C=5, gamma=0.001, kernel=linear............................\n",
      "[CV 2/5; 8/12] END C=5, gamma=0.001, kernel=linear;, score=0.927 total time=   0.2s\n",
      "[CV 3/5; 8/12] START C=5, gamma=0.001, kernel=linear............................\n",
      "[CV 3/5; 8/12] END C=5, gamma=0.001, kernel=linear;, score=0.919 total time=   0.2s\n",
      "[CV 4/5; 8/12] START C=5, gamma=0.001, kernel=linear............................\n",
      "[CV 4/5; 8/12] END C=5, gamma=0.001, kernel=linear;, score=0.918 total time=   0.2s\n",
      "[CV 5/5; 8/12] START C=5, gamma=0.001, kernel=linear............................\n",
      "[CV 5/5; 8/12] END C=5, gamma=0.001, kernel=linear;, score=0.932 total time=   0.2s\n",
      "[CV 1/5; 9/12] START C=5, gamma=0.0001, kernel=linear...........................\n",
      "[CV 1/5; 9/12] END C=5, gamma=0.0001, kernel=linear;, score=0.912 total time=   0.2s\n",
      "[CV 2/5; 9/12] START C=5, gamma=0.0001, kernel=linear...........................\n",
      "[CV 2/5; 9/12] END C=5, gamma=0.0001, kernel=linear;, score=0.927 total time=   0.2s\n",
      "[CV 3/5; 9/12] START C=5, gamma=0.0001, kernel=linear...........................\n",
      "[CV 3/5; 9/12] END C=5, gamma=0.0001, kernel=linear;, score=0.919 total time=   0.2s\n",
      "[CV 4/5; 9/12] START C=5, gamma=0.0001, kernel=linear...........................\n",
      "[CV 4/5; 9/12] END C=5, gamma=0.0001, kernel=linear;, score=0.918 total time=   0.2s\n",
      "[CV 5/5; 9/12] START C=5, gamma=0.0001, kernel=linear...........................\n",
      "[CV 5/5; 9/12] END C=5, gamma=0.0001, kernel=linear;, score=0.932 total time=   0.2s\n",
      "[CV 1/5; 10/12] START C=10, gamma=0.01, kernel=linear...........................\n",
      "[CV 1/5; 10/12] END C=10, gamma=0.01, kernel=linear;, score=0.912 total time=   0.2s\n",
      "[CV 2/5; 10/12] START C=10, gamma=0.01, kernel=linear...........................\n",
      "[CV 2/5; 10/12] END C=10, gamma=0.01, kernel=linear;, score=0.928 total time=   0.3s\n",
      "[CV 3/5; 10/12] START C=10, gamma=0.01, kernel=linear...........................\n",
      "[CV 3/5; 10/12] END C=10, gamma=0.01, kernel=linear;, score=0.921 total time=   0.3s\n",
      "[CV 4/5; 10/12] START C=10, gamma=0.01, kernel=linear...........................\n",
      "[CV 4/5; 10/12] END C=10, gamma=0.01, kernel=linear;, score=0.918 total time=   0.3s\n",
      "[CV 5/5; 10/12] START C=10, gamma=0.01, kernel=linear...........................\n",
      "[CV 5/5; 10/12] END C=10, gamma=0.01, kernel=linear;, score=0.931 total time=   0.3s\n",
      "[CV 1/5; 11/12] START C=10, gamma=0.001, kernel=linear..........................\n",
      "[CV 1/5; 11/12] END C=10, gamma=0.001, kernel=linear;, score=0.912 total time=   0.2s\n",
      "[CV 2/5; 11/12] START C=10, gamma=0.001, kernel=linear..........................\n",
      "[CV 2/5; 11/12] END C=10, gamma=0.001, kernel=linear;, score=0.928 total time=   0.3s\n",
      "[CV 3/5; 11/12] START C=10, gamma=0.001, kernel=linear..........................\n",
      "[CV 3/5; 11/12] END C=10, gamma=0.001, kernel=linear;, score=0.921 total time=   0.3s\n",
      "[CV 4/5; 11/12] START C=10, gamma=0.001, kernel=linear..........................\n",
      "[CV 4/5; 11/12] END C=10, gamma=0.001, kernel=linear;, score=0.918 total time=   0.3s\n",
      "[CV 5/5; 11/12] START C=10, gamma=0.001, kernel=linear..........................\n",
      "[CV 5/5; 11/12] END C=10, gamma=0.001, kernel=linear;, score=0.931 total time=   0.3s\n",
      "[CV 1/5; 12/12] START C=10, gamma=0.0001, kernel=linear.........................\n",
      "[CV 1/5; 12/12] END C=10, gamma=0.0001, kernel=linear;, score=0.912 total time=   0.2s\n",
      "[CV 2/5; 12/12] START C=10, gamma=0.0001, kernel=linear.........................\n",
      "[CV 2/5; 12/12] END C=10, gamma=0.0001, kernel=linear;, score=0.928 total time=   0.3s\n",
      "[CV 3/5; 12/12] START C=10, gamma=0.0001, kernel=linear.........................\n",
      "[CV 3/5; 12/12] END C=10, gamma=0.0001, kernel=linear;, score=0.921 total time=   0.2s\n",
      "[CV 4/5; 12/12] START C=10, gamma=0.0001, kernel=linear.........................\n",
      "[CV 4/5; 12/12] END C=10, gamma=0.0001, kernel=linear;, score=0.918 total time=   0.3s\n",
      "[CV 5/5; 12/12] START C=10, gamma=0.0001, kernel=linear.........................\n",
      "[CV 5/5; 12/12] END C=10, gamma=0.0001, kernel=linear;, score=0.931 total time=   0.3s\n"
     ]
    }
   ],
   "source": [
    "#grid search metaksu linear k rbf kernel gia to prediction\n",
    "from sklearn.svm import SVC\n",
    "from sklearn.model_selection import GridSearchCV\n",
    "param_grid=[{ 'C': [5,10],'gamma':[0.01,0.001,0.0001], 'kernel':['rbf']},\n",
    "{ 'C': [5,10],'gamma':[0.01,0.001,0.0001], 'kernel':['linear']},]\n",
    "grid=GridSearchCV(SVC(), param_grid, verbose=10)\n",
    "grid.fit(X_train_kpcaPluslda,y_train)\n",
    "y_pred=grid.predict(X_test_kpcaPluslda)"
   ]
  },
  {
   "cell_type": "code",
   "execution_count": 56,
   "metadata": {},
   "outputs": [
    {
     "data": {
      "text/plain": [
       "{'C': 5, 'gamma': 0.01, 'kernel': 'rbf'}"
      ]
     },
     "execution_count": 56,
     "metadata": {},
     "output_type": "execute_result"
    }
   ],
   "source": [
    "grid.best_params_"
   ]
  },
  {
   "cell_type": "code",
   "execution_count": 57,
   "metadata": {},
   "outputs": [
    {
     "name": "stdout",
     "output_type": "stream",
     "text": [
      "Accuracy: 0.912 \n",
      "\n"
     ]
    }
   ],
   "source": [
    "print(\"Accuracy:\",metrics.accuracy_score(y_true=y_test,y_pred=y_pred),\"\\n\")"
   ]
  }
 ],
 "metadata": {
  "kernelspec": {
   "display_name": "Python 3.11.0 64-bit",
   "language": "python",
   "name": "python3"
  },
  "language_info": {
   "codemirror_mode": {
    "name": "ipython",
    "version": 3
   },
   "file_extension": ".py",
   "mimetype": "text/x-python",
   "name": "python",
   "nbconvert_exporter": "python",
   "pygments_lexer": "ipython3",
   "version": "3.11.0"
  },
  "orig_nbformat": 4,
  "vscode": {
   "interpreter": {
    "hash": "79e6cb52068ee5b1a94566e42d1e53059c25f588943a0acba74fc8c2d292dace"
   }
  }
 },
 "nbformat": 4,
 "nbformat_minor": 2
}
